{
  "nbformat": 4,
  "nbformat_minor": 0,
  "metadata": {
    "colab": {
      "provenance": []
    },
    "kernelspec": {
      "name": "python3",
      "display_name": "Python 3"
    },
    "language_info": {
      "name": "python"
    }
  },
  "cells": [
    {
      "cell_type": "markdown",
      "source": [
        "**Importing modules**"
      ],
      "metadata": {
        "id": "xpE-CEmn26RL"
      }
    },
    {
      "cell_type": "code",
      "execution_count": 1,
      "metadata": {
        "id": "viQpjUS6tujk"
      },
      "outputs": [],
      "source": [
        "import pandas as pd\n",
        "from sklearn.model_selection import train_test_split\n",
        "from sklearn.ensemble import RandomForestRegressor\n",
        "from sklearn.metrics import mean_absolute_error"
      ]
    },
    {
      "cell_type": "markdown",
      "source": [
        "**Loading Data**"
      ],
      "metadata": {
        "id": "M5sbITPb29wE"
      }
    },
    {
      "cell_type": "code",
      "source": [
        "data = pd.read_csv('/content/melb_data.csv')\n",
        "data.info()"
      ],
      "metadata": {
        "colab": {
          "base_uri": "https://localhost:8080/"
        },
        "id": "HHdusSqH16wc",
        "outputId": "28daa9ee-539e-48f5-c290-a6a4167d47c3"
      },
      "execution_count": 2,
      "outputs": [
        {
          "output_type": "stream",
          "name": "stdout",
          "text": [
            "<class 'pandas.core.frame.DataFrame'>\n",
            "RangeIndex: 13580 entries, 0 to 13579\n",
            "Data columns (total 21 columns):\n",
            " #   Column         Non-Null Count  Dtype  \n",
            "---  ------         --------------  -----  \n",
            " 0   Suburb         13580 non-null  object \n",
            " 1   Address        13580 non-null  object \n",
            " 2   Rooms          13580 non-null  int64  \n",
            " 3   Type           13580 non-null  object \n",
            " 4   Price          13580 non-null  float64\n",
            " 5   Method         13580 non-null  object \n",
            " 6   SellerG        13580 non-null  object \n",
            " 7   Date           13580 non-null  object \n",
            " 8   Distance       13580 non-null  float64\n",
            " 9   Postcode       13580 non-null  float64\n",
            " 10  Bedroom2       13580 non-null  float64\n",
            " 11  Bathroom       13580 non-null  float64\n",
            " 12  Car            13518 non-null  float64\n",
            " 13  Landsize       13580 non-null  float64\n",
            " 14  BuildingArea   7130 non-null   float64\n",
            " 15  YearBuilt      8205 non-null   float64\n",
            " 16  CouncilArea    12211 non-null  object \n",
            " 17  Lattitude      13580 non-null  float64\n",
            " 18  Longtitude     13580 non-null  float64\n",
            " 19  Regionname     13580 non-null  object \n",
            " 20  Propertycount  13580 non-null  float64\n",
            "dtypes: float64(12), int64(1), object(8)\n",
            "memory usage: 2.2+ MB\n"
          ]
        }
      ]
    },
    {
      "cell_type": "markdown",
      "source": [
        "**Creating Model**"
      ],
      "metadata": {
        "id": "8bjV1I463Ax0"
      }
    },
    {
      "cell_type": "code",
      "source": [
        "y = data.Price\n",
        "\n",
        "predictor = data.drop(['Price'], axis=1)\n",
        "X = predictor.select_dtypes(exclude=['object'])\n",
        "\n",
        "X_train,X_val,y_train,y_val = train_test_split(X,y,train_size=0.8,test_size=0.2, random_state=0)\n",
        "\n",
        "def score(X_train,X_val,y_train,y_val):\n",
        "  model = RandomForestRegressor(random_state=0)\n",
        "  model.fit(X_train,y_train)\n",
        "  prediction = model.predict(X_val)\n",
        "  return mean_absolute_error(y_val,prediction)"
      ],
      "metadata": {
        "id": "g2JCcX0l0_av"
      },
      "execution_count": 3,
      "outputs": []
    },
    {
      "cell_type": "markdown",
      "source": [
        "# **Handling missing values**"
      ],
      "metadata": {
        "id": "KB-H4nXe3FDo"
      }
    },
    {
      "cell_type": "markdown",
      "source": [
        "**1.Droping columns with missing values**\n",
        "\n",
        "Ensures no missing values remain in the dataset.\n",
        "\n",
        "Removes potentially important features, which may lead to a loss of predictive power."
      ],
      "metadata": {
        "id": "VSqFTJ213JON"
      }
    },
    {
      "cell_type": "code",
      "source": [
        "#finding the columns having missing values\n",
        "missing_value_col = [col for col in X_train.columns if X_train[col].isnull().any()]\n",
        "\n",
        "\n",
        "#dropping the columns having missing values from Training and validation data\n",
        "new_X_train = X_train.drop(missing_value_col,axis=1)\n",
        "new_X_val = X_val.drop(missing_value_col,axis=1)\n",
        "\n",
        "#evaluating model\n",
        "print(\"\\nMean absolute error for (Dropping columns with missing values) :\")\n",
        "approach1 = score(new_X_train,new_X_val,y_train,y_val)\n",
        "print(approach1)"
      ],
      "metadata": {
        "colab": {
          "base_uri": "https://localhost:8080/"
        },
        "id": "srAFdhoD0_dK",
        "outputId": "2776b743-9382-45fe-ec89-982e0ba47037"
      },
      "execution_count": 4,
      "outputs": [
        {
          "output_type": "stream",
          "name": "stdout",
          "text": [
            "\n",
            "Mean absolute error for (Dropping columns with missing values) :\n",
            "175703.48185157913\n"
          ]
        }
      ]
    },
    {
      "cell_type": "markdown",
      "source": [
        "**2.Imputation**\n",
        "\n",
        "We use SimpleImputer to replace missing values with the statistical (mean,median,mode) value along each column.\n",
        "\n",
        "It retains all features, preserving valuable information.\n",
        "\n",
        "If imputation introduces biased or inaccurate values, it may degrade model performance."
      ],
      "metadata": {
        "id": "5RWtBKlo4an0"
      }
    },
    {
      "cell_type": "code",
      "source": [
        "from sklearn.impute import SimpleImputer\n",
        "\n",
        "imputer = SimpleImputer()\n",
        "\n",
        "#finding imputer values for training and validation data\n",
        "\n",
        "#Calculating the required statistics (e.g., mean) for each column in X_train with missing values and replacing it.\n",
        "imputed_X_train = pd.DataFrame(imputer.fit_transform(X_train))\n",
        "\n",
        "#Applying the statistics computed from X_train (via fit) to fill missing values in X_valid.\n",
        "imputed_X_val = pd.DataFrame(imputer.transform(X_val))\n",
        "\n",
        "#restoring the column names\n",
        "imputed_X_train.columns = X_train.columns\n",
        "imputed_X_val.columns = X_val.columns\n",
        "\n",
        "#evaluating model\n",
        "print(\"\\nMean absolute error for (Imputation) :\")\n",
        "approach2 = score(imputed_X_train,imputed_X_val,y_train,y_val)\n",
        "print(approach2)"
      ],
      "metadata": {
        "colab": {
          "base_uri": "https://localhost:8080/"
        },
        "id": "P9N8xMY70_f5",
        "outputId": "8b33ee97-8f20-4dd5-91fd-bb7cc8325fdd"
      },
      "execution_count": 5,
      "outputs": [
        {
          "output_type": "stream",
          "name": "stdout",
          "text": [
            "\n",
            "Mean absolute error for (Imputation) :\n",
            "169237.0268668034\n"
          ]
        }
      ]
    },
    {
      "cell_type": "code",
      "source": [
        "print(\"Handling Missing Values by : \")\n",
        "\n",
        "print(f\"\\n1. Dropping columns with missing values\")\n",
        "\n",
        "#no. of columns\n",
        "col_count1 = new_X_train.shape[1]\n",
        "print(f\"Number of columns after dropping: {col_count1}\")\n",
        "print(f\"MAE : {approach1}\")\n",
        "\n",
        "\n",
        "print(f\"\\n2. Imputation\")\n",
        "\n",
        "#no. of columns\n",
        "col_count2 = imputed_X_train.shape[1]\n",
        "print(f\"Number of columns after imputation: {col_count2}\")\n",
        "print(f\"MAE : {approach2}\")\n",
        "\n",
        "\n",
        "print(\"\\n\\n*As number of columns in Imputation method are more, important features are present and thus its mae is less than that of dropping column method.\")"
      ],
      "metadata": {
        "colab": {
          "base_uri": "https://localhost:8080/"
        },
        "id": "aEjCVwzHhVIx",
        "outputId": "8c880f39-3af4-464f-cae7-badf3d2dae4c"
      },
      "execution_count": 8,
      "outputs": [
        {
          "output_type": "stream",
          "name": "stdout",
          "text": [
            "Handling Missing Values by : \n",
            "\n",
            "1. Dropping columns with missing values\n",
            "Number of columns after dropping: 9\n",
            "MAE : 175703.48185157913\n",
            "\n",
            "2. Imputation\n",
            "Number of columns after imputation: 12\n",
            "MAE : 169237.0268668034\n",
            "\n",
            "\n",
            "*As number of columns in Imputation method are more, important features are present and thus its mae is less than that of dropping column method.\n"
          ]
        }
      ]
    }
  ]
}